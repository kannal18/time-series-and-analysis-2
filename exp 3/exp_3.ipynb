{
  "nbformat": 4,
  "nbformat_minor": 0,
  "metadata": {
    "colab": {
      "provenance": [],
      "authorship_tag": "ABX9TyOeljFDeCpdx0zStyuavn1W",
      "include_colab_link": true
    },
    "kernelspec": {
      "name": "python3",
      "display_name": "Python 3"
    },
    "language_info": {
      "name": "python"
    }
  },
  "cells": [
    {
      "cell_type": "markdown",
      "metadata": {
        "id": "view-in-github",
        "colab_type": "text"
      },
      "source": [
        "<a href=\"https://colab.research.google.com/github/kannal18/time-series-and-analysis/blob/main/exp_3.ipynb\" target=\"_parent\"><img src=\"https://colab.research.google.com/assets/colab-badge.svg\" alt=\"Open In Colab\"/></a>"
      ]
    },
    {
      "source": [
        "# Task\n",
        "Implement programs to check stationary of a time series data for the given dataset\n",
        "\n",
        "Here is all the data you need:\n",
        "\"Plant_1_Generation_Data.csv\""
      ],
      "cell_type": "markdown",
      "metadata": {
        "id": "cOxPaAuzrlN1"
      }
    },
    {
      "source": [
        "## Data loading\n",
        "\n",
        "### Subtask:\n",
        "Load the \"Plant_1_Generation_Data.csv\" file into a pandas DataFrame.\n"
      ],
      "cell_type": "markdown",
      "metadata": {
        "id": "K6HQ1d3drldo"
      }
    },
    {
      "source": [
        "**Reasoning**:\n",
        "Load the \"Plant_1_Generation_Data.csv\" file into a pandas DataFrame according to the instructions.\n",
        "\n"
      ],
      "cell_type": "markdown",
      "metadata": {
        "id": "WrafYx8srltc"
      }
    },
    {
      "source": [
        "import pandas as pd\n",
        "\n",
        "df = pd.read_csv('Plant_1_Generation_Data.csv')\n",
        "display(df.head())"
      ],
      "cell_type": "code",
      "metadata": {
        "colab": {
          "base_uri": "https://localhost:8080/",
          "height": 399
        },
        "id": "eS9uAqajrl9M",
        "outputId": "a511bccc-9979-47cc-ad11-9af1232018c1"
      },
      "execution_count": 1,
      "outputs": [
        {
          "output_type": "display_data",
          "data": {
            "text/plain": [
              "          DATE_TIME  PLANT_ID       SOURCE_KEY  DC_POWER  AC_POWER  \\\n",
              "0  15-05-2020 00:00   4135001  1BY6WEcLGh8j5v7       0.0       0.0   \n",
              "1  15-05-2020 00:00   4135001  1IF53ai7Xc0U56Y       0.0       0.0   \n",
              "2  15-05-2020 00:00   4135001  3PZuoBAID5Wc2HD       0.0       0.0   \n",
              "3  15-05-2020 00:00   4135001  7JYdWkrLSPkdwr4       0.0       0.0   \n",
              "4  15-05-2020 00:00   4135001  McdE0feGgRqW7Ca       0.0       0.0   \n",
              "\n",
              "   DAILY_YIELD  TOTAL_YIELD  \n",
              "0          0.0    6259559.0  \n",
              "1          0.0    6183645.0  \n",
              "2          0.0    6987759.0  \n",
              "3          0.0    7602960.0  \n",
              "4          0.0    7158964.0  "
            ],
            "text/html": [
              "\n",
              "  <div id=\"df-b444447a-f103-447f-b9dc-0a78d8b3fe31\" class=\"colab-df-container\">\n",
              "    <div>\n",
              "<style scoped>\n",
              "    .dataframe tbody tr th:only-of-type {\n",
              "        vertical-align: middle;\n",
              "    }\n",
              "\n",
              "    .dataframe tbody tr th {\n",
              "        vertical-align: top;\n",
              "    }\n",
              "\n",
              "    .dataframe thead th {\n",
              "        text-align: right;\n",
              "    }\n",
              "</style>\n",
              "<table border=\"1\" class=\"dataframe\">\n",
              "  <thead>\n",
              "    <tr style=\"text-align: right;\">\n",
              "      <th></th>\n",
              "      <th>DATE_TIME</th>\n",
              "      <th>PLANT_ID</th>\n",
              "      <th>SOURCE_KEY</th>\n",
              "      <th>DC_POWER</th>\n",
              "      <th>AC_POWER</th>\n",
              "      <th>DAILY_YIELD</th>\n",
              "      <th>TOTAL_YIELD</th>\n",
              "    </tr>\n",
              "  </thead>\n",
              "  <tbody>\n",
              "    <tr>\n",
              "      <th>0</th>\n",
              "      <td>15-05-2020 00:00</td>\n",
              "      <td>4135001</td>\n",
              "      <td>1BY6WEcLGh8j5v7</td>\n",
              "      <td>0.0</td>\n",
              "      <td>0.0</td>\n",
              "      <td>0.0</td>\n",
              "      <td>6259559.0</td>\n",
              "    </tr>\n",
              "    <tr>\n",
              "      <th>1</th>\n",
              "      <td>15-05-2020 00:00</td>\n",
              "      <td>4135001</td>\n",
              "      <td>1IF53ai7Xc0U56Y</td>\n",
              "      <td>0.0</td>\n",
              "      <td>0.0</td>\n",
              "      <td>0.0</td>\n",
              "      <td>6183645.0</td>\n",
              "    </tr>\n",
              "    <tr>\n",
              "      <th>2</th>\n",
              "      <td>15-05-2020 00:00</td>\n",
              "      <td>4135001</td>\n",
              "      <td>3PZuoBAID5Wc2HD</td>\n",
              "      <td>0.0</td>\n",
              "      <td>0.0</td>\n",
              "      <td>0.0</td>\n",
              "      <td>6987759.0</td>\n",
              "    </tr>\n",
              "    <tr>\n",
              "      <th>3</th>\n",
              "      <td>15-05-2020 00:00</td>\n",
              "      <td>4135001</td>\n",
              "      <td>7JYdWkrLSPkdwr4</td>\n",
              "      <td>0.0</td>\n",
              "      <td>0.0</td>\n",
              "      <td>0.0</td>\n",
              "      <td>7602960.0</td>\n",
              "    </tr>\n",
              "    <tr>\n",
              "      <th>4</th>\n",
              "      <td>15-05-2020 00:00</td>\n",
              "      <td>4135001</td>\n",
              "      <td>McdE0feGgRqW7Ca</td>\n",
              "      <td>0.0</td>\n",
              "      <td>0.0</td>\n",
              "      <td>0.0</td>\n",
              "      <td>7158964.0</td>\n",
              "    </tr>\n",
              "  </tbody>\n",
              "</table>\n",
              "</div>\n",
              "    <div class=\"colab-df-buttons\">\n",
              "\n",
              "  <div class=\"colab-df-container\">\n",
              "    <button class=\"colab-df-convert\" onclick=\"convertToInteractive('df-b444447a-f103-447f-b9dc-0a78d8b3fe31')\"\n",
              "            title=\"Convert this dataframe to an interactive table.\"\n",
              "            style=\"display:none;\">\n",
              "\n",
              "  <svg xmlns=\"http://www.w3.org/2000/svg\" height=\"24px\" viewBox=\"0 -960 960 960\">\n",
              "    <path d=\"M120-120v-720h720v720H120Zm60-500h600v-160H180v160Zm220 220h160v-160H400v160Zm0 220h160v-160H400v160ZM180-400h160v-160H180v160Zm440 0h160v-160H620v160ZM180-180h160v-160H180v160Zm440 0h160v-160H620v160Z\"/>\n",
              "  </svg>\n",
              "    </button>\n",
              "\n",
              "  <style>\n",
              "    .colab-df-container {\n",
              "      display:flex;\n",
              "      gap: 12px;\n",
              "    }\n",
              "\n",
              "    .colab-df-convert {\n",
              "      background-color: #E8F0FE;\n",
              "      border: none;\n",
              "      border-radius: 50%;\n",
              "      cursor: pointer;\n",
              "      display: none;\n",
              "      fill: #1967D2;\n",
              "      height: 32px;\n",
              "      padding: 0 0 0 0;\n",
              "      width: 32px;\n",
              "    }\n",
              "\n",
              "    .colab-df-convert:hover {\n",
              "      background-color: #E2EBFA;\n",
              "      box-shadow: 0px 1px 2px rgba(60, 64, 67, 0.3), 0px 1px 3px 1px rgba(60, 64, 67, 0.15);\n",
              "      fill: #174EA6;\n",
              "    }\n",
              "\n",
              "    .colab-df-buttons div {\n",
              "      margin-bottom: 4px;\n",
              "    }\n",
              "\n",
              "    [theme=dark] .colab-df-convert {\n",
              "      background-color: #3B4455;\n",
              "      fill: #D2E3FC;\n",
              "    }\n",
              "\n",
              "    [theme=dark] .colab-df-convert:hover {\n",
              "      background-color: #434B5C;\n",
              "      box-shadow: 0px 1px 3px 1px rgba(0, 0, 0, 0.15);\n",
              "      filter: drop-shadow(0px 1px 2px rgba(0, 0, 0, 0.3));\n",
              "      fill: #FFFFFF;\n",
              "    }\n",
              "  </style>\n",
              "\n",
              "    <script>\n",
              "      const buttonEl =\n",
              "        document.querySelector('#df-b444447a-f103-447f-b9dc-0a78d8b3fe31 button.colab-df-convert');\n",
              "      buttonEl.style.display =\n",
              "        google.colab.kernel.accessAllowed ? 'block' : 'none';\n",
              "\n",
              "      async function convertToInteractive(key) {\n",
              "        const element = document.querySelector('#df-b444447a-f103-447f-b9dc-0a78d8b3fe31');\n",
              "        const dataTable =\n",
              "          await google.colab.kernel.invokeFunction('convertToInteractive',\n",
              "                                                    [key], {});\n",
              "        if (!dataTable) return;\n",
              "\n",
              "        const docLinkHtml = 'Like what you see? Visit the ' +\n",
              "          '<a target=\"_blank\" href=https://colab.research.google.com/notebooks/data_table.ipynb>data table notebook</a>'\n",
              "          + ' to learn more about interactive tables.';\n",
              "        element.innerHTML = '';\n",
              "        dataTable['output_type'] = 'display_data';\n",
              "        await google.colab.output.renderOutput(dataTable, element);\n",
              "        const docLink = document.createElement('div');\n",
              "        docLink.innerHTML = docLinkHtml;\n",
              "        element.appendChild(docLink);\n",
              "      }\n",
              "    </script>\n",
              "  </div>\n",
              "\n",
              "\n",
              "<div id=\"df-3da548d9-4282-425f-8574-266bb20eddd3\">\n",
              "  <button class=\"colab-df-quickchart\" onclick=\"quickchart('df-3da548d9-4282-425f-8574-266bb20eddd3')\"\n",
              "            title=\"Suggest charts\"\n",
              "            style=\"display:none;\">\n",
              "\n",
              "<svg xmlns=\"http://www.w3.org/2000/svg\" height=\"24px\"viewBox=\"0 0 24 24\"\n",
              "     width=\"24px\">\n",
              "    <g>\n",
              "        <path d=\"M19 3H5c-1.1 0-2 .9-2 2v14c0 1.1.9 2 2 2h14c1.1 0 2-.9 2-2V5c0-1.1-.9-2-2-2zM9 17H7v-7h2v7zm4 0h-2V7h2v10zm4 0h-2v-4h2v4z\"/>\n",
              "    </g>\n",
              "</svg>\n",
              "  </button>\n",
              "\n",
              "<style>\n",
              "  .colab-df-quickchart {\n",
              "      --bg-color: #E8F0FE;\n",
              "      --fill-color: #1967D2;\n",
              "      --hover-bg-color: #E2EBFA;\n",
              "      --hover-fill-color: #174EA6;\n",
              "      --disabled-fill-color: #AAA;\n",
              "      --disabled-bg-color: #DDD;\n",
              "  }\n",
              "\n",
              "  [theme=dark] .colab-df-quickchart {\n",
              "      --bg-color: #3B4455;\n",
              "      --fill-color: #D2E3FC;\n",
              "      --hover-bg-color: #434B5C;\n",
              "      --hover-fill-color: #FFFFFF;\n",
              "      --disabled-bg-color: #3B4455;\n",
              "      --disabled-fill-color: #666;\n",
              "  }\n",
              "\n",
              "  .colab-df-quickchart {\n",
              "    background-color: var(--bg-color);\n",
              "    border: none;\n",
              "    border-radius: 50%;\n",
              "    cursor: pointer;\n",
              "    display: none;\n",
              "    fill: var(--fill-color);\n",
              "    height: 32px;\n",
              "    padding: 0;\n",
              "    width: 32px;\n",
              "  }\n",
              "\n",
              "  .colab-df-quickchart:hover {\n",
              "    background-color: var(--hover-bg-color);\n",
              "    box-shadow: 0 1px 2px rgba(60, 64, 67, 0.3), 0 1px 3px 1px rgba(60, 64, 67, 0.15);\n",
              "    fill: var(--button-hover-fill-color);\n",
              "  }\n",
              "\n",
              "  .colab-df-quickchart-complete:disabled,\n",
              "  .colab-df-quickchart-complete:disabled:hover {\n",
              "    background-color: var(--disabled-bg-color);\n",
              "    fill: var(--disabled-fill-color);\n",
              "    box-shadow: none;\n",
              "  }\n",
              "\n",
              "  .colab-df-spinner {\n",
              "    border: 2px solid var(--fill-color);\n",
              "    border-color: transparent;\n",
              "    border-bottom-color: var(--fill-color);\n",
              "    animation:\n",
              "      spin 1s steps(1) infinite;\n",
              "  }\n",
              "\n",
              "  @keyframes spin {\n",
              "    0% {\n",
              "      border-color: transparent;\n",
              "      border-bottom-color: var(--fill-color);\n",
              "      border-left-color: var(--fill-color);\n",
              "    }\n",
              "    20% {\n",
              "      border-color: transparent;\n",
              "      border-left-color: var(--fill-color);\n",
              "      border-top-color: var(--fill-color);\n",
              "    }\n",
              "    30% {\n",
              "      border-color: transparent;\n",
              "      border-left-color: var(--fill-color);\n",
              "      border-top-color: var(--fill-color);\n",
              "      border-right-color: var(--fill-color);\n",
              "    }\n",
              "    40% {\n",
              "      border-color: transparent;\n",
              "      border-right-color: var(--fill-color);\n",
              "      border-top-color: var(--fill-color);\n",
              "    }\n",
              "    60% {\n",
              "      border-color: transparent;\n",
              "      border-right-color: var(--fill-color);\n",
              "    }\n",
              "    80% {\n",
              "      border-color: transparent;\n",
              "      border-right-color: var(--fill-color);\n",
              "      border-bottom-color: var(--fill-color);\n",
              "    }\n",
              "    90% {\n",
              "      border-color: transparent;\n",
              "      border-bottom-color: var(--fill-color);\n",
              "    }\n",
              "  }\n",
              "</style>\n",
              "\n",
              "  <script>\n",
              "    async function quickchart(key) {\n",
              "      const quickchartButtonEl =\n",
              "        document.querySelector('#' + key + ' button');\n",
              "      quickchartButtonEl.disabled = true;  // To prevent multiple clicks.\n",
              "      quickchartButtonEl.classList.add('colab-df-spinner');\n",
              "      try {\n",
              "        const charts = await google.colab.kernel.invokeFunction(\n",
              "            'suggestCharts', [key], {});\n",
              "      } catch (error) {\n",
              "        console.error('Error during call to suggestCharts:', error);\n",
              "      }\n",
              "      quickchartButtonEl.classList.remove('colab-df-spinner');\n",
              "      quickchartButtonEl.classList.add('colab-df-quickchart-complete');\n",
              "    }\n",
              "    (() => {\n",
              "      let quickchartButtonEl =\n",
              "        document.querySelector('#df-3da548d9-4282-425f-8574-266bb20eddd3 button');\n",
              "      quickchartButtonEl.style.display =\n",
              "        google.colab.kernel.accessAllowed ? 'block' : 'none';\n",
              "    })();\n",
              "  </script>\n",
              "</div>\n",
              "\n",
              "    </div>\n",
              "  </div>\n"
            ],
            "application/vnd.google.colaboratory.intrinsic+json": {
              "type": "dataframe",
              "summary": "{\n  \"name\": \"display(df\",\n  \"rows\": 5,\n  \"fields\": [\n    {\n      \"column\": \"DATE_TIME\",\n      \"properties\": {\n        \"dtype\": \"object\",\n        \"num_unique_values\": 1,\n        \"samples\": [\n          \"15-05-2020 00:00\"\n        ],\n        \"semantic_type\": \"\",\n        \"description\": \"\"\n      }\n    },\n    {\n      \"column\": \"PLANT_ID\",\n      \"properties\": {\n        \"dtype\": \"number\",\n        \"std\": 0,\n        \"min\": 4135001,\n        \"max\": 4135001,\n        \"num_unique_values\": 1,\n        \"samples\": [\n          4135001\n        ],\n        \"semantic_type\": \"\",\n        \"description\": \"\"\n      }\n    },\n    {\n      \"column\": \"SOURCE_KEY\",\n      \"properties\": {\n        \"dtype\": \"string\",\n        \"num_unique_values\": 5,\n        \"samples\": [\n          \"1IF53ai7Xc0U56Y\"\n        ],\n        \"semantic_type\": \"\",\n        \"description\": \"\"\n      }\n    },\n    {\n      \"column\": \"DC_POWER\",\n      \"properties\": {\n        \"dtype\": \"number\",\n        \"std\": 0.0,\n        \"min\": 0.0,\n        \"max\": 0.0,\n        \"num_unique_values\": 1,\n        \"samples\": [\n          0.0\n        ],\n        \"semantic_type\": \"\",\n        \"description\": \"\"\n      }\n    },\n    {\n      \"column\": \"AC_POWER\",\n      \"properties\": {\n        \"dtype\": \"number\",\n        \"std\": 0.0,\n        \"min\": 0.0,\n        \"max\": 0.0,\n        \"num_unique_values\": 1,\n        \"samples\": [\n          0.0\n        ],\n        \"semantic_type\": \"\",\n        \"description\": \"\"\n      }\n    },\n    {\n      \"column\": \"DAILY_YIELD\",\n      \"properties\": {\n        \"dtype\": \"number\",\n        \"std\": 0.0,\n        \"min\": 0.0,\n        \"max\": 0.0,\n        \"num_unique_values\": 1,\n        \"samples\": [\n          0.0\n        ],\n        \"semantic_type\": \"\",\n        \"description\": \"\"\n      }\n    },\n    {\n      \"column\": \"TOTAL_YIELD\",\n      \"properties\": {\n        \"dtype\": \"number\",\n        \"std\": 606914.7877851552,\n        \"min\": 6183645.0,\n        \"max\": 7602960.0,\n        \"num_unique_values\": 5,\n        \"samples\": [\n          6183645.0\n        ],\n        \"semantic_type\": \"\",\n        \"description\": \"\"\n      }\n    }\n  ]\n}"
            }
          },
          "metadata": {}
        }
      ]
    },
    {
      "source": [
        "## Data exploration\n",
        "\n",
        "### Subtask:\n",
        "Explore the loaded DataFrame to understand its structure and identify the relevant time series data.\n"
      ],
      "cell_type": "markdown",
      "metadata": {
        "id": "TDUCsnDUrpkl"
      }
    },
    {
      "source": [
        "**Reasoning**:\n",
        "Examine the DataFrame's shape, data types, and identify the time series column and relevant features' distribution.\n",
        "\n"
      ],
      "cell_type": "markdown",
      "metadata": {
        "id": "1kBXz23Qrqy1"
      }
    },
    {
      "source": [
        "print(f\"DataFrame shape: {df.shape}\")\n",
        "print(\"\\nData types of each column:\\n\", df.dtypes)\n",
        "\n",
        "# Identify the time series column (DATE_TIME)\n",
        "print(\"\\nTime series column: DATE_TIME\")\n",
        "\n",
        "# Explore the distribution of relevant features\n",
        "print(\"\\nDistribution of relevant features:\")\n",
        "numerical_features = ['DC_POWER', 'AC_POWER', 'DAILY_YIELD', 'TOTAL_YIELD']\n",
        "for feature in numerical_features:\n",
        "  print(f\"\\nDescriptive statistics for {feature}:\\n\", df[feature].describe())\n"
      ],
      "cell_type": "code",
      "metadata": {
        "colab": {
          "base_uri": "https://localhost:8080/"
        },
        "id": "SUTSKsvXrrL9",
        "outputId": "71697b04-e48c-4a02-9ef0-77fc85a292cc"
      },
      "execution_count": 2,
      "outputs": [
        {
          "output_type": "stream",
          "name": "stdout",
          "text": [
            "DataFrame shape: (68778, 7)\n",
            "\n",
            "Data types of each column:\n",
            " DATE_TIME       object\n",
            "PLANT_ID         int64\n",
            "SOURCE_KEY      object\n",
            "DC_POWER       float64\n",
            "AC_POWER       float64\n",
            "DAILY_YIELD    float64\n",
            "TOTAL_YIELD    float64\n",
            "dtype: object\n",
            "\n",
            "Time series column: DATE_TIME\n",
            "\n",
            "Distribution of relevant features:\n",
            "\n",
            "Descriptive statistics for DC_POWER:\n",
            " count    68778.000000\n",
            "mean      3147.426211\n",
            "std       4036.457169\n",
            "min          0.000000\n",
            "25%          0.000000\n",
            "50%        429.000000\n",
            "75%       6366.964286\n",
            "max      14471.125000\n",
            "Name: DC_POWER, dtype: float64\n",
            "\n",
            "Descriptive statistics for AC_POWER:\n",
            " count    68778.000000\n",
            "mean       307.802752\n",
            "std        394.396439\n",
            "min          0.000000\n",
            "25%          0.000000\n",
            "50%         41.493750\n",
            "75%        623.618750\n",
            "max       1410.950000\n",
            "Name: AC_POWER, dtype: float64\n",
            "\n",
            "Descriptive statistics for DAILY_YIELD:\n",
            " count    68778.000000\n",
            "mean      3295.968737\n",
            "std       3145.178309\n",
            "min          0.000000\n",
            "25%          0.000000\n",
            "50%       2658.714286\n",
            "75%       6274.000000\n",
            "max       9163.000000\n",
            "Name: DAILY_YIELD, dtype: float64\n",
            "\n",
            "Descriptive statistics for TOTAL_YIELD:\n",
            " count    6.877800e+04\n",
            "mean     6.978712e+06\n",
            "std      4.162720e+05\n",
            "min      6.183645e+06\n",
            "25%      6.512003e+06\n",
            "50%      7.146685e+06\n",
            "75%      7.268706e+06\n",
            "max      7.846821e+06\n",
            "Name: TOTAL_YIELD, dtype: float64\n"
          ]
        }
      ]
    },
    {
      "source": [
        "**Reasoning**:\n",
        "Check for missing values and outliers in the relevant numerical features.\n",
        "\n"
      ],
      "cell_type": "markdown",
      "metadata": {
        "id": "hFBwCaRYrtB6"
      }
    },
    {
      "source": [
        "# Check for missing values\n",
        "print(\"\\nMissing values in relevant features:\")\n",
        "print(df[numerical_features].isnull().sum())\n",
        "\n",
        "# Check for outliers (using IQR method)\n",
        "for feature in numerical_features:\n",
        "  Q1 = df[feature].quantile(0.25)\n",
        "  Q3 = df[feature].quantile(0.75)\n",
        "  IQR = Q3 - Q1\n",
        "  lower_bound = Q1 - 1.5 * IQR\n",
        "  upper_bound = Q3 + 1.5 * IQR\n",
        "  outliers = df[(df[feature] < lower_bound) | (df[feature] > upper_bound)]\n",
        "  print(f\"\\nNumber of outliers for {feature}: {len(outliers)}\")\n"
      ],
      "cell_type": "code",
      "metadata": {
        "colab": {
          "base_uri": "https://localhost:8080/"
        },
        "id": "GE4xFkJcrtYg",
        "outputId": "59284c27-b88a-4f41-f006-5cccea427135"
      },
      "execution_count": 3,
      "outputs": [
        {
          "output_type": "stream",
          "name": "stdout",
          "text": [
            "\n",
            "Missing values in relevant features:\n",
            "DC_POWER       0\n",
            "AC_POWER       0\n",
            "DAILY_YIELD    0\n",
            "TOTAL_YIELD    0\n",
            "dtype: int64\n",
            "\n",
            "Number of outliers for DC_POWER: 0\n",
            "\n",
            "Number of outliers for AC_POWER: 0\n",
            "\n",
            "Number of outliers for DAILY_YIELD: 0\n",
            "\n",
            "Number of outliers for TOTAL_YIELD: 0\n"
          ]
        }
      ]
    },
    {
      "source": [
        "## Data preparation\n",
        "\n",
        "### Subtask:\n",
        "Prepare the time series data for stationarity checks.\n"
      ],
      "cell_type": "markdown",
      "metadata": {
        "id": "kKZ3_bQbrw71"
      }
    },
    {
      "source": [
        "**Reasoning**:\n",
        "Convert the 'DATE_TIME' column to datetime objects, set it as index, select the 'AC_POWER' column, and handle any missing values.\n",
        "\n"
      ],
      "cell_type": "markdown",
      "metadata": {
        "id": "xgZtPSnCryJf"
      }
    },
    {
      "source": [
        "# Convert 'DATE_TIME' to datetime objects\n",
        "df['DATE_TIME'] = pd.to_datetime(df['DATE_TIME'])\n",
        "\n",
        "# Set 'DATE_TIME' as index\n",
        "df = df.set_index('DATE_TIME')\n",
        "\n",
        "# Select 'AC_POWER' column\n",
        "ts_data = df['AC_POWER']\n",
        "\n",
        "# Handle missing values (using forward fill as an example)\n",
        "ts_data = ts_data.fillna(method='ffill')"
      ],
      "cell_type": "code",
      "metadata": {
        "colab": {
          "base_uri": "https://localhost:8080/"
        },
        "id": "OsXIqRtnrygr",
        "outputId": "0eabc1d4-8fdc-46de-fc8b-704df97a5f37"
      },
      "execution_count": 4,
      "outputs": [
        {
          "output_type": "stream",
          "name": "stderr",
          "text": [
            "<ipython-input-4-4fdc92838ec9>:2: UserWarning: Parsing dates in %d-%m-%Y %H:%M format when dayfirst=False (the default) was specified. Pass `dayfirst=True` or specify a format to silence this warning.\n",
            "  df['DATE_TIME'] = pd.to_datetime(df['DATE_TIME'])\n",
            "<ipython-input-4-4fdc92838ec9>:11: FutureWarning: Series.fillna with 'method' is deprecated and will raise in a future version. Use obj.ffill() or obj.bfill() instead.\n",
            "  ts_data = ts_data.fillna(method='ffill')\n"
          ]
        }
      ]
    },
    {
      "source": [
        "**Reasoning**:\n",
        "The previous command had warnings related to date parsing and fillna method. We will fix these issues, convert the 'DATE_TIME' column to datetime objects, set it as index, select the 'AC_POWER' column, and handle any missing values using forward fill.\n",
        "\n"
      ],
      "cell_type": "markdown",
      "metadata": {
        "id": "EXuS_mVKr0W1"
      }
    },
    {
      "source": [
        "# Convert 'DATE_TIME' to datetime objects\n",
        "df['DATE_TIME'] = pd.to_datetime(df['DATE_TIME'], dayfirst=True)\n",
        "\n",
        "# Set 'DATE_TIME' as index\n",
        "df = df.set_index('DATE_TIME')\n",
        "\n",
        "# Select 'AC_POWER' column\n",
        "ts_data = df['AC_POWER']\n",
        "\n",
        "# Handle missing values (using forward fill)\n",
        "ts_data = ts_data.ffill()"
      ],
      "cell_type": "code",
      "metadata": {
        "colab": {
          "base_uri": "https://localhost:8080/",
          "height": 616
        },
        "id": "Y3BoubfRr0tT",
        "outputId": "2dbc066c-b691-478a-e6dd-5641a7fd8a49"
      },
      "execution_count": 5,
      "outputs": [
        {
          "output_type": "error",
          "ename": "KeyError",
          "evalue": "'DATE_TIME'",
          "traceback": [
            "\u001b[0;31m---------------------------------------------------------------------------\u001b[0m",
            "\u001b[0;31mKeyError\u001b[0m                                  Traceback (most recent call last)",
            "\u001b[0;32m/usr/local/lib/python3.11/dist-packages/pandas/core/indexes/base.py\u001b[0m in \u001b[0;36mget_loc\u001b[0;34m(self, key)\u001b[0m\n\u001b[1;32m   3804\u001b[0m         \u001b[0;32mtry\u001b[0m\u001b[0;34m:\u001b[0m\u001b[0;34m\u001b[0m\u001b[0;34m\u001b[0m\u001b[0m\n\u001b[0;32m-> 3805\u001b[0;31m             \u001b[0;32mreturn\u001b[0m \u001b[0mself\u001b[0m\u001b[0;34m.\u001b[0m\u001b[0m_engine\u001b[0m\u001b[0;34m.\u001b[0m\u001b[0mget_loc\u001b[0m\u001b[0;34m(\u001b[0m\u001b[0mcasted_key\u001b[0m\u001b[0;34m)\u001b[0m\u001b[0;34m\u001b[0m\u001b[0;34m\u001b[0m\u001b[0m\n\u001b[0m\u001b[1;32m   3806\u001b[0m         \u001b[0;32mexcept\u001b[0m \u001b[0mKeyError\u001b[0m \u001b[0;32mas\u001b[0m \u001b[0merr\u001b[0m\u001b[0;34m:\u001b[0m\u001b[0;34m\u001b[0m\u001b[0;34m\u001b[0m\u001b[0m\n",
            "\u001b[0;32mindex.pyx\u001b[0m in \u001b[0;36mpandas._libs.index.IndexEngine.get_loc\u001b[0;34m()\u001b[0m\n",
            "\u001b[0;32mindex.pyx\u001b[0m in \u001b[0;36mpandas._libs.index.IndexEngine.get_loc\u001b[0;34m()\u001b[0m\n",
            "\u001b[0;32mpandas/_libs/hashtable_class_helper.pxi\u001b[0m in \u001b[0;36mpandas._libs.hashtable.PyObjectHashTable.get_item\u001b[0;34m()\u001b[0m\n",
            "\u001b[0;32mpandas/_libs/hashtable_class_helper.pxi\u001b[0m in \u001b[0;36mpandas._libs.hashtable.PyObjectHashTable.get_item\u001b[0;34m()\u001b[0m\n",
            "\u001b[0;31mKeyError\u001b[0m: 'DATE_TIME'",
            "\nThe above exception was the direct cause of the following exception:\n",
            "\u001b[0;31mKeyError\u001b[0m                                  Traceback (most recent call last)",
            "\u001b[0;32m<ipython-input-5-3d71b573e44b>\u001b[0m in \u001b[0;36m<cell line: 0>\u001b[0;34m()\u001b[0m\n\u001b[1;32m      1\u001b[0m \u001b[0;31m# Convert 'DATE_TIME' to datetime objects\u001b[0m\u001b[0;34m\u001b[0m\u001b[0;34m\u001b[0m\u001b[0m\n\u001b[0;32m----> 2\u001b[0;31m \u001b[0mdf\u001b[0m\u001b[0;34m[\u001b[0m\u001b[0;34m'DATE_TIME'\u001b[0m\u001b[0;34m]\u001b[0m \u001b[0;34m=\u001b[0m \u001b[0mpd\u001b[0m\u001b[0;34m.\u001b[0m\u001b[0mto_datetime\u001b[0m\u001b[0;34m(\u001b[0m\u001b[0mdf\u001b[0m\u001b[0;34m[\u001b[0m\u001b[0;34m'DATE_TIME'\u001b[0m\u001b[0;34m]\u001b[0m\u001b[0;34m,\u001b[0m \u001b[0mdayfirst\u001b[0m\u001b[0;34m=\u001b[0m\u001b[0;32mTrue\u001b[0m\u001b[0;34m)\u001b[0m\u001b[0;34m\u001b[0m\u001b[0;34m\u001b[0m\u001b[0m\n\u001b[0m\u001b[1;32m      3\u001b[0m \u001b[0;34m\u001b[0m\u001b[0m\n\u001b[1;32m      4\u001b[0m \u001b[0;31m# Set 'DATE_TIME' as index\u001b[0m\u001b[0;34m\u001b[0m\u001b[0;34m\u001b[0m\u001b[0m\n\u001b[1;32m      5\u001b[0m \u001b[0mdf\u001b[0m \u001b[0;34m=\u001b[0m \u001b[0mdf\u001b[0m\u001b[0;34m.\u001b[0m\u001b[0mset_index\u001b[0m\u001b[0;34m(\u001b[0m\u001b[0;34m'DATE_TIME'\u001b[0m\u001b[0;34m)\u001b[0m\u001b[0;34m\u001b[0m\u001b[0;34m\u001b[0m\u001b[0m\n",
            "\u001b[0;32m/usr/local/lib/python3.11/dist-packages/pandas/core/frame.py\u001b[0m in \u001b[0;36m__getitem__\u001b[0;34m(self, key)\u001b[0m\n\u001b[1;32m   4100\u001b[0m             \u001b[0;32mif\u001b[0m \u001b[0mself\u001b[0m\u001b[0;34m.\u001b[0m\u001b[0mcolumns\u001b[0m\u001b[0;34m.\u001b[0m\u001b[0mnlevels\u001b[0m \u001b[0;34m>\u001b[0m \u001b[0;36m1\u001b[0m\u001b[0;34m:\u001b[0m\u001b[0;34m\u001b[0m\u001b[0;34m\u001b[0m\u001b[0m\n\u001b[1;32m   4101\u001b[0m                 \u001b[0;32mreturn\u001b[0m \u001b[0mself\u001b[0m\u001b[0;34m.\u001b[0m\u001b[0m_getitem_multilevel\u001b[0m\u001b[0;34m(\u001b[0m\u001b[0mkey\u001b[0m\u001b[0;34m)\u001b[0m\u001b[0;34m\u001b[0m\u001b[0;34m\u001b[0m\u001b[0m\n\u001b[0;32m-> 4102\u001b[0;31m             \u001b[0mindexer\u001b[0m \u001b[0;34m=\u001b[0m \u001b[0mself\u001b[0m\u001b[0;34m.\u001b[0m\u001b[0mcolumns\u001b[0m\u001b[0;34m.\u001b[0m\u001b[0mget_loc\u001b[0m\u001b[0;34m(\u001b[0m\u001b[0mkey\u001b[0m\u001b[0;34m)\u001b[0m\u001b[0;34m\u001b[0m\u001b[0;34m\u001b[0m\u001b[0m\n\u001b[0m\u001b[1;32m   4103\u001b[0m             \u001b[0;32mif\u001b[0m \u001b[0mis_integer\u001b[0m\u001b[0;34m(\u001b[0m\u001b[0mindexer\u001b[0m\u001b[0;34m)\u001b[0m\u001b[0;34m:\u001b[0m\u001b[0;34m\u001b[0m\u001b[0;34m\u001b[0m\u001b[0m\n\u001b[1;32m   4104\u001b[0m                 \u001b[0mindexer\u001b[0m \u001b[0;34m=\u001b[0m \u001b[0;34m[\u001b[0m\u001b[0mindexer\u001b[0m\u001b[0;34m]\u001b[0m\u001b[0;34m\u001b[0m\u001b[0;34m\u001b[0m\u001b[0m\n",
            "\u001b[0;32m/usr/local/lib/python3.11/dist-packages/pandas/core/indexes/base.py\u001b[0m in \u001b[0;36mget_loc\u001b[0;34m(self, key)\u001b[0m\n\u001b[1;32m   3810\u001b[0m             ):\n\u001b[1;32m   3811\u001b[0m                 \u001b[0;32mraise\u001b[0m \u001b[0mInvalidIndexError\u001b[0m\u001b[0;34m(\u001b[0m\u001b[0mkey\u001b[0m\u001b[0;34m)\u001b[0m\u001b[0;34m\u001b[0m\u001b[0;34m\u001b[0m\u001b[0m\n\u001b[0;32m-> 3812\u001b[0;31m             \u001b[0;32mraise\u001b[0m \u001b[0mKeyError\u001b[0m\u001b[0;34m(\u001b[0m\u001b[0mkey\u001b[0m\u001b[0;34m)\u001b[0m \u001b[0;32mfrom\u001b[0m \u001b[0merr\u001b[0m\u001b[0;34m\u001b[0m\u001b[0;34m\u001b[0m\u001b[0m\n\u001b[0m\u001b[1;32m   3813\u001b[0m         \u001b[0;32mexcept\u001b[0m \u001b[0mTypeError\u001b[0m\u001b[0;34m:\u001b[0m\u001b[0;34m\u001b[0m\u001b[0;34m\u001b[0m\u001b[0m\n\u001b[1;32m   3814\u001b[0m             \u001b[0;31m# If we have a listlike key, _check_indexing_error will raise\u001b[0m\u001b[0;34m\u001b[0m\u001b[0;34m\u001b[0m\u001b[0m\n",
            "\u001b[0;31mKeyError\u001b[0m: 'DATE_TIME'"
          ]
        }
      ]
    },
    {
      "source": [
        "**Reasoning**:\n",
        "The previous code failed because the 'DATE_TIME' column was already set as the index. We need to reset the index before converting it to datetime.\n",
        "\n"
      ],
      "cell_type": "markdown",
      "metadata": {
        "id": "tgGGTDEQr2US"
      }
    },
    {
      "source": [
        "# Reset the index\n",
        "df = df.reset_index()\n",
        "\n",
        "# Convert 'DATE_TIME' to datetime objects\n",
        "df['DATE_TIME'] = pd.to_datetime(df['DATE_TIME'], dayfirst=True)\n",
        "\n",
        "# Set 'DATE_TIME' as index\n",
        "df = df.set_index('DATE_TIME')\n",
        "\n",
        "# Select 'AC_POWER' column\n",
        "ts_data = df['AC_POWER']\n",
        "\n",
        "# Handle missing values (using forward fill)\n",
        "ts_data = ts_data.ffill()"
      ],
      "cell_type": "code",
      "metadata": {
        "id": "6b6pGeUKr2kE"
      },
      "execution_count": 6,
      "outputs": []
    },
    {
      "source": [
        "## Data analysis\n",
        "\n",
        "### Subtask:\n",
        "Perform statistical tests to check for stationarity in the time series data.\n"
      ],
      "cell_type": "markdown",
      "metadata": {
        "id": "DYygPW1Fr50w"
      }
    },
    {
      "source": [
        "**Reasoning**:\n",
        "Import the necessary library and perform the ADF test on the 'AC_POWER' time series.\n",
        "\n"
      ],
      "cell_type": "markdown",
      "metadata": {
        "id": "gRCBPg4ir6Ej"
      }
    },
    {
      "source": [
        "from statsmodels.tsa.stattools import adfuller\n",
        "\n",
        "# Perform the ADF test\n",
        "adf_result = adfuller(ts_data)\n",
        "\n",
        "# Print the results\n",
        "print(\"ADF Statistic:\", adf_result[0])\n",
        "print(\"p-value:\", adf_result[1])\n",
        "print(\"Critical Values:\", adf_result[4])"
      ],
      "cell_type": "code",
      "metadata": {
        "colab": {
          "base_uri": "https://localhost:8080/"
        },
        "id": "9eXJaSlsr6UY",
        "outputId": "7c650f18-015b-441a-bd53-a1e27a1cd26b"
      },
      "execution_count": 7,
      "outputs": [
        {
          "output_type": "stream",
          "name": "stdout",
          "text": [
            "ADF Statistic: -6.356842370888709\n",
            "p-value: 2.5305248125905853e-08\n",
            "Critical Values: {'1%': np.float64(-3.430445169094101), '5%': np.float64(-2.861582063037551), '10%': np.float64(-2.56679238871977)}\n"
          ]
        }
      ]
    },
    {
      "source": [
        "**Reasoning**:\n",
        "Interpret the ADF test results to determine if the time series is stationary.\n",
        "\n"
      ],
      "cell_type": "markdown",
      "metadata": {
        "id": "H-fnSNocsFPs"
      }
    },
    {
      "source": [
        "# Interpret the results\n",
        "if adf_result[1] <= 0.05 and adf_result[0] < adf_result[4]['5%']:\n",
        "  print(\"The time series is stationary.\")\n",
        "else:\n",
        "  print(\"The time series is not stationary.\")"
      ],
      "cell_type": "code",
      "metadata": {
        "colab": {
          "base_uri": "https://localhost:8080/"
        },
        "id": "OsV-DIaRsFfw",
        "outputId": "3791c6fd-b7d7-47f0-ce39-19217fac27c2"
      },
      "execution_count": 8,
      "outputs": [
        {
          "output_type": "stream",
          "name": "stdout",
          "text": [
            "The time series is stationary.\n"
          ]
        }
      ]
    },
    {
      "source": [
        "## Summary:\n",
        "\n",
        "### 1. Q&A\n",
        "\n",
        "* **Is the 'AC_POWER' time series stationary?**  Yes, based on the Augmented Dickey-Fuller (ADF) test, the 'AC_POWER' time series is considered stationary. The p-value is significantly less than 0.05, and the ADF statistic is less than the critical value at the 5% significance level.\n",
        "\n",
        "\n",
        "### 2. Data Analysis Key Findings\n",
        "\n",
        "* **ADF Test Results:**\n",
        "    * ADF Statistic: -6.3568\n",
        "    * p-value: 2.5305e-08\n",
        "    * Critical Values:\n",
        "        * 1%: -3.4304\n",
        "        * 5%: -2.8616\n",
        "        * 10%: -2.5668\n",
        "* **Stationarity Conclusion:** The 'AC_POWER' time series was determined to be stationary based on the ADF test results.\n",
        "\n",
        "\n",
        "### 3. Insights or Next Steps\n",
        "\n",
        "* **Proceed with Time Series Forecasting:** Since the 'AC_POWER' data is stationary, it can be used for time series forecasting models like ARIMA or other appropriate methods.\n",
        "* **Further Analysis:** Investigate the AC_POWER data further to determine if there are any seasonality or trends that can be further exploited for more precise forecasting.\n"
      ],
      "cell_type": "markdown",
      "metadata": {
        "id": "2mZ3R8w5sJoW"
      }
    },
    {
      "cell_type": "code",
      "source": [
        "import matplotlib.pyplot as plt\n",
        "\n",
        "# Plot the time series data\n",
        "plt.figure(figsize=(12, 6))  # Set the figure size\n",
        "plt.plot(ts_data)  # Plot the 'AC_POWER' data\n",
        "plt.title('AC Power Time Series')  # Set the title\n",
        "plt.xlabel('Date Time')  # Set the x-axis label\n",
        "plt.ylabel('AC Power')  # Set the y-axis label\n",
        "plt.grid(True)  # Add a grid\n",
        "plt.show()  # Display the plot"
      ],
      "metadata": {
        "colab": {
          "base_uri": "https://localhost:8080/",
          "height": 356
        },
        "id": "yqobuX0VstUH",
        "outputId": "4e2137fd-3f5f-4e2a-dd7c-9be933d9a301"
      },
      "execution_count": 9,
      "outputs": [
        {
          "output_type": "display_data",
          "data": {
            "text/plain": [
              "<Figure size 1200x600 with 1 Axes>"
            ],
            "image/png": "[encoded data removed]"
          },
          "metadata": {}
        }
      ]
    }
  ]
}